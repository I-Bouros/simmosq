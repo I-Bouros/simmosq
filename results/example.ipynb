{
 "cells": [
  {
   "cell_type": "code",
   "execution_count": 1,
   "metadata": {},
   "outputs": [],
   "source": [
    "import simmosq as sm\n",
    "import numpy as np"
   ]
  },
  {
   "cell_type": "code",
   "execution_count": 2,
   "metadata": {},
   "outputs": [],
   "source": [
    "mosquitoes = sm.Mosquitoes(positions=[[0, 0], [0, 0]])\n",
    "\n",
    "parameters = {'covariance_matrix': np.diag([1,1])}"
   ]
  },
  {
   "cell_type": "code",
   "execution_count": 3,
   "metadata": {},
   "outputs": [],
   "source": [
    "simulation = sm.SimulationController(mosquitoes=mosquitoes, model_mosq_movement=sm.RandomDiffussion())"
   ]
  },
  {
   "cell_type": "code",
   "execution_count": 4,
   "metadata": {},
   "outputs": [
    {
     "name": "stdout",
     "output_type": "stream",
     "text": [
      "[[[0, 0], [0, 0]], [[-0.08046025895550575, -0.21851760061521797], [-0.312763048951364, 1.0061294683349074]], [[0.3007039941381056, -0.6493420378660887], [-0.6943429277656749, 0.24958436874126777]], [[-0.420108846708842, -0.5082874848044109], [-0.9776565765705514, 0.7929177150529845]]]\n"
     ]
    }
   ],
   "source": [
    "print([state._positions for state in simulation.run(parameters, 3)])"
   ]
  }
 ],
 "metadata": {
  "interpreter": {
   "hash": "271b153e1f2314b9a4cde8a0b54af006d435358beea812df9794d8f02c07959c"
  },
  "kernelspec": {
   "display_name": "Python 3.12.4 64-bit ('simmosq': conda)",
   "name": "python3"
  },
  "language_info": {
   "codemirror_mode": {
    "name": "ipython",
    "version": 3
   },
   "file_extension": ".py",
   "mimetype": "text/x-python",
   "name": "python",
   "nbconvert_exporter": "python",
   "pygments_lexer": "ipython3",
   "version": "3.12.4"
  },
  "orig_nbformat": 4
 },
 "nbformat": 4,
 "nbformat_minor": 2
}

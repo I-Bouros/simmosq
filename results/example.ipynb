{
 "cells": [
  {
   "cell_type": "code",
   "execution_count": 1,
   "metadata": {},
   "outputs": [],
   "source": [
    "import simmosq as sm\n",
    "import numpy as np"
   ]
  },
  {
   "cell_type": "code",
   "execution_count": 2,
   "metadata": {},
   "outputs": [],
   "source": [
    "mosquitoes = sm.Mosquitoes(positions=[[0, 0], [0, 0]])\n",
    "\n",
    "parameters = {'covariance_matrix': np.diag([1,1]),\n",
    "              'death_prob': 0.07}"
   ]
  },
  {
   "cell_type": "code",
   "execution_count": 3,
   "metadata": {},
   "outputs": [],
   "source": [
    "simulation = sm.SimulationController(mosquitoes=mosquitoes, model_mosq_movement=sm.RandomDiffusion())"
   ]
  },
  {
   "cell_type": "code",
   "execution_count": 4,
   "metadata": {},
   "outputs": [
    {
     "name": "stdout",
     "output_type": "stream",
     "text": [
      "[[[0, 0], [0, 0]], [[1.193441977868139, -1.0723093673191897], [0.3087481755992676, 2.3149566415587297]], [[0.4237117560218271, -1.1435546268815937], [-1.1099552396706192, 1.5743217368298832]], [[1.0896562323572454, 0.09068245831932864], [-1.7288192150613715, 0.8525675543555437]], [[1.591092089031957, 0.05507033023185157], [-1.3011481870302761, 0.43867348887100477]], [[2.619660989990947, 1.1332864808308567], [-2.6970419824405427, 0.8947915428095303]], [[2.4461805401628918, 2.4121439862252094], [-2.185468861755308, 0.39559649901020644]], [[1.9270526151650036, 3.1750882610641504], [-2.3889121893212315, -0.6380168637176359]], [[2.3777288564721815, 3.1644905243019323], [-3.4075887940482494, 0.6600433881807509]], [[1.7597412823239837, 4.135567477742364], [-3.7961111807779253, -0.19219368793346447]], [[1.2896837704480766, 4.49451741718769], [-4.725737983764597, 1.3199648036437721]]]\n"
     ]
    }
   ],
   "source": [
    "print([state._positions for state in simulation.run(parameters, 10)])"
   ]
  },
  {
   "cell_type": "code",
   "execution_count": 5,
   "metadata": {},
   "outputs": [
    {
     "data": {
      "text/plain": [
       "[<simmosq.mosquitoes.Mosquitoes at 0x1edd6c669d0>,\n",
       " <simmosq.mosquitoes.Mosquitoes at 0x1edb672d990>,\n",
       " <simmosq.mosquitoes.Mosquitoes at 0x1edd711f790>,\n",
       " <simmosq.mosquitoes.Mosquitoes at 0x1edd6f6e0d0>,\n",
       " <simmosq.mosquitoes.Mosquitoes at 0x1edd7a7bf50>,\n",
       " <simmosq.mosquitoes.Mosquitoes at 0x1edd7c28bd0>,\n",
       " <simmosq.mosquitoes.Mosquitoes at 0x1edd80a8750>,\n",
       " <simmosq.mosquitoes.Mosquitoes at 0x1edd7f3ee90>,\n",
       " <simmosq.mosquitoes.Mosquitoes at 0x1edd80a32d0>,\n",
       " <simmosq.mosquitoes.Mosquitoes at 0x1edd7c2a050>,\n",
       " <simmosq.mosquitoes.Mosquitoes at 0x1edd86f4790>,\n",
       " <simmosq.mosquitoes.Mosquitoes at 0x1edd885d350>,\n",
       " <simmosq.mosquitoes.Mosquitoes at 0x1edd86f46d0>,\n",
       " <simmosq.mosquitoes.Mosquitoes at 0x1edd8857ed0>,\n",
       " <simmosq.mosquitoes.Mosquitoes at 0x1edd8d1c410>,\n",
       " <simmosq.mosquitoes.Mosquitoes at 0x1edd8e88a10>,\n",
       " <simmosq.mosquitoes.Mosquitoes at 0x1edd8d17410>,\n",
       " <simmosq.mosquitoes.Mosquitoes at 0x1edd8e835d0>,\n",
       " <simmosq.mosquitoes.Mosquitoes at 0x1edd9344050>,\n",
       " <simmosq.mosquitoes.Mosquitoes at 0x1edda4a0f50>,\n",
       " <simmosq.mosquitoes.Mosquitoes at 0x1edd933ebd0>]"
      ]
     },
     "execution_count": 5,
     "metadata": {},
     "output_type": "execute_result"
    }
   ],
   "source": [
    "mosquitoes = sm.Mosquitoes(positions = [[0, 0] for _ in range(10000)])\n",
    "trap = sm.RadialTrap([0,0], {'R':0.1, 'trap_prob':0.1})\n",
    "simulation = sm.SimulationController(mosquitoes=mosquitoes, model_mosq_movement=sm.RandomDiffusion())\n",
    "simulation.run(parameters, 20, [trap])"
   ]
  },
  {
   "cell_type": "code",
   "execution_count": 6,
   "metadata": {},
   "outputs": [
    {
     "data": {
      "text/plain": [
       "[<simmosq.mosquitoes.Mosquitoes at 0x1e24907b290>,\n",
       " <simmosq.mosquitoes.Mosquitoes at 0x1e24cfebad0>,\n",
       " <simmosq.mosquitoes.Mosquitoes at 0x1e24c6ba990>,\n",
       " <simmosq.mosquitoes.Mosquitoes at 0x1e24d020ad0>,\n",
       " <simmosq.mosquitoes.Mosquitoes at 0x1e24ce51150>,\n",
       " <simmosq.mosquitoes.Mosquitoes at 0x1e24d46fe90>,\n",
       " <simmosq.mosquitoes.Mosquitoes at 0x1e24d840e10>,\n",
       " <simmosq.mosquitoes.Mosquitoes at 0x1e24cee3b90>,\n",
       " <simmosq.mosquitoes.Mosquitoes at 0x1e24d9adfd0>,\n",
       " <simmosq.mosquitoes.Mosquitoes at 0x1e24d83b990>,\n",
       " <simmosq.mosquitoes.Mosquitoes at 0x1e24de60950>,\n",
       " <simmosq.mosquitoes.Mosquitoes at 0x1e24dbd34d0>,\n",
       " <simmosq.mosquitoes.Mosquitoes at 0x1e24dfd1b10>,\n",
       " <simmosq.mosquitoes.Mosquitoes at 0x1e24de5b4d0>,\n",
       " <simmosq.mosquitoes.Mosquitoes at 0x1e24dfd0490>,\n",
       " <simmosq.mosquitoes.Mosquitoes at 0x1e24e5f1490>,\n",
       " <simmosq.mosquitoes.Mosquitoes at 0x1e24e2de690>,\n",
       " <simmosq.mosquitoes.Mosquitoes at 0x1e24e45e7d0>,\n",
       " <simmosq.mosquitoes.Mosquitoes at 0x1e24eaa41d0>,\n",
       " <simmosq.mosquitoes.Mosquitoes at 0x1e24e790f50>,\n",
       " <simmosq.mosquitoes.Mosquitoes at 0x1e24ea9ed50>]"
      ]
     },
     "execution_count": 6,
     "metadata": {},
     "output_type": "execute_result"
    }
   ],
   "source": [
    "#Trying to treat each trap individually:\n",
    "mosquitoes = sm.Mosquitoes(positions = [[0, 0] for _ in range(10000)])\n",
    "simulation = sm.SimulationController(mosquitoes=mosquitoes, model_mosq_movement=sm.RandomDiffusion())\n",
    "parameters = {'covariance_matrix': np.diag([1,1]),\n",
    "              'death_prob': 0.01}\n",
    "trap1 = sm.RadialTrap([1,0], {'R': 0.1, 'trap_prob': 0.1})\n",
    "trap2 = sm.RadialTrap([0,0], {'R': 0.1, 'trap_prob': 0.1})\n",
    "trap3 = sm.RadialTrap([-1,0], {'R': 0.1, 'trap_prob': 0.1})\n",
    "traps = [trap1, trap2, trap3]\n",
    "simulation.run(parameters, 20, traps)"
   ]
  },
  {
   "cell_type": "code",
   "execution_count": 3,
   "metadata": {},
   "outputs": [
    {
     "name": "stdout",
     "output_type": "stream",
     "text": [
      "35\n",
      "   Has.trapped\n",
      "0            6\n",
      "1            3\n",
      "2            0\n",
      "3            1\n",
      "4            0\n",
      "5            2\n",
      "6            0\n",
      "7            0\n",
      "8            0\n",
      "9            0\n",
      "10           0\n",
      "11           0\n",
      "12           0\n",
      "13           0\n",
      "14           0\n",
      "15           0\n",
      "16           0\n",
      "17           1\n",
      "18           0\n",
      "19           0\n",
      "Has.trapped    11\n",
      "dtype: object\n",
      "Has.trapped    13\n",
      "dtype: object\n",
      "Has.trapped    11\n",
      "dtype: object\n"
     ]
    }
   ],
   "source": [
    "print(sum(mosquitoes._trapped))\n",
    "print(trap2._has_trapped)\n",
    "print(trap1._has_trapped.sum())\n",
    "print(trap2._has_trapped.sum())\n",
    "print(trap3._has_trapped.sum())"
   ]
  }
 ],
 "metadata": {
  "interpreter": {
   "hash": "271b153e1f2314b9a4cde8a0b54af006d435358beea812df9794d8f02c07959c"
  },
  "kernelspec": {
   "display_name": "Python 3.12.4 64-bit ('simmosq': conda)",
   "name": "python3"
  },
  "language_info": {
   "codemirror_mode": {
    "name": "ipython",
    "version": 3
   },
   "file_extension": ".py",
   "mimetype": "text/x-python",
   "name": "python",
   "nbconvert_exporter": "python",
   "pygments_lexer": "ipython3",
   "version": "3.11.9"
  },
  "orig_nbformat": 4
 },
 "nbformat": 4,
 "nbformat_minor": 2
}
